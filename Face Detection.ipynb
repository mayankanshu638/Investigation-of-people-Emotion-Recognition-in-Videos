{
 "cells": [
  {
   "cell_type": "code",
   "execution_count": 1,
   "id": "dense-impossible",
   "metadata": {},
   "outputs": [],
   "source": [
    "import cv2 #OpenCV\n",
    "profileface = \"haarcascade_profileface.xml\"\n",
    "frontalface = \"haarcascade_frontalface_default.xml\"\n",
    "\n",
    "profilefacecascade = cv2.CascadeClassifier(profileface)\n",
    "frontalfacecascade = cv2.CascadeClassifier(frontalface)"
   ]
  },
  {
   "cell_type": "code",
   "execution_count": 10,
   "id": "fifteen-madagascar",
   "metadata": {},
   "outputs": [],
   "source": [
    "video_capture = cv2.VideoCapture(0)\n",
    "while True:\n",
    "        ret, frame = video_capture.read()\n",
    "\n",
    "        gray = cv2.cvtColor(frame, cv2.COLOR_BGR2GRAY)\n",
    "        \n",
    "        faces = frontalfacecascade.detectMultiScale(\n",
    "        gray,\n",
    "        scaleFactor=1.2,\n",
    "        minNeighbors=5,\n",
    "        minSize=(20, 20),\n",
    "        flags=cv2.CASCADE_SCALE_IMAGE\n",
    "        )\n",
    "        if len(faces) == 0:\n",
    "            faces = profilefacecascade.detectMultiScale(\n",
    "                gray,\n",
    "                scaleFactor=1.2,\n",
    "                minNeighbors=5,\n",
    "                minSize=(20, 20),\n",
    "                flags=cv2.CASCADE_SCALE_IMAGE\n",
    "            )\n",
    "        if len(faces) == 0:\n",
    "            faces = profilefacecascade.detectMultiScale(\n",
    "            cv2.flip(gray ,1),\n",
    "            scaleFactor=1.2,\n",
    "            minNeighbors=5,\n",
    "            minSize=(20, 20),\n",
    "            flags=cv2.CASCADE_SCALE_IMAGE\n",
    "            )\n",
    "            frame = cv2.flip(frame,1)\n",
    "            for (x, y, w, h) in faces:\n",
    "                cv2.rectangle(frame, (x, y), (x+w, y+h), (255, 0, 0), 3)\n",
    "                roi_gray = gray[y:y+h, x:x+w]\n",
    "                roi_color = frame[y:y+h, x:x+w]\n",
    "            frame = cv2.flip(frame,1)\n",
    "        else:\n",
    "            for (x, y, w, h) in faces:\n",
    "                cv2.rectangle(frame, (x, y), (x+w, y+h), (255, 0, 0), 3)\n",
    "    \n",
    "                roi_gray = gray[y:y+h, x:x+w]\n",
    "                roi_color = frame[y:y+h, x:x+w]\n",
    "        cv2.imshow('Video', frame)\n",
    "\n",
    "        if cv2.waitKey(1) & 0xFF == ord('q'):\n",
    "            break\n",
    "video_capture.release()\n",
    "cv2.destroyAllWindows()"
   ]
  },
  {
   "cell_type": "code",
   "execution_count": null,
   "id": "subjective-planner",
   "metadata": {},
   "outputs": [],
   "source": []
  }
 ],
 "metadata": {
  "kernelspec": {
   "display_name": "Python 3",
   "language": "python",
   "name": "python3"
  },
  "language_info": {
   "codemirror_mode": {
    "name": "ipython",
    "version": 3
   },
   "file_extension": ".py",
   "mimetype": "text/x-python",
   "name": "python",
   "nbconvert_exporter": "python",
   "pygments_lexer": "ipython3",
   "version": "3.8.5"
  }
 },
 "nbformat": 4,
 "nbformat_minor": 5
}
